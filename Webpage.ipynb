{
 "cells": [
  {
   "cell_type": "code",
   "execution_count": 1,
   "id": "8c69a4b1",
   "metadata": {},
   "outputs": [],
   "source": [
    "import gradio as gr\n",
    "from PIL import Image\n",
    "\n",
    "from openai import OpenAI\n",
    "import base64\n",
    "import requests\n",
    "from IPython.display import display\n",
    "from IPython.display import Image as ip_image\n",
    "from PIL import Image\n",
    "import json\n",
    "import aspose.pdf as ap\n",
    "\n",
    "# OpenAI API Key\n",
    "api_key = \"$\"\n"
   ]
  },
  {
   "cell_type": "code",
   "execution_count": 13,
   "id": "76c5a46d",
   "metadata": {},
   "outputs": [],
   "source": [
    "\n",
    "def modifications(image): #takes file as input\n",
    "    return image #modifies image / output\n",
    "\n",
    "\n",
    "def greet(question): #replace this with the function that can answer the question\n",
    "    return \"Did you ask \" + question + \"?\" #returns the answer to the question\n",
    "\n",
    "\n",
    "#%% Image from Path\n",
    "\n",
    "# Function to display image image from file\n",
    "def display_image_file(image):\n",
    "    myImage = Image.open(image)\n",
    "    return myImage.show()\n",
    "\n",
    "# Function to encode the image from file\n",
    "def encode_image_file(image):\n",
    "    with open(image, \"rb\") as image_file:\n",
    "        display_image_file(image)\n",
    "        return base64.b64encode(image_file.read()).decode('utf-8')\n",
    "\n",
    "# Path to your image\n",
    "# image_path = \"C:\\\\Users\\Maanas\\OneDrive - Imperial College London\\Blackboard\\Research Computing\\Project\\\\test notes.jpg\"\n",
    "\n",
    "# Getting the base64 string\n",
    "# base64_image = encode_image_file(image)\n",
    "\n",
    "\n",
    "\n",
    "#%% GPT 4V text to image - normal instructions\n",
    "def GPT4V_function(image):\n",
    "\n",
    "    base64_image = encode_image_file(image)\n",
    "    \n",
    "    headers = {\n",
    "      \"Content-Type\": \"application/json\",\n",
    "      \"Authorization\": f\"Bearer {api_key}\"\n",
    "    }\n",
    "\n",
    "    payload = {\n",
    "      \"model\": \"gpt-4-vision-preview\",\n",
    "      \"messages\": [\n",
    "        {\n",
    "          \"role\": \"user\",\n",
    "          \"content\": [\n",
    "            {\n",
    "              \"type\": \"text\",\n",
    "              \"text\": \"What’s written in these notes? Please translate handwriting into text precisely, and write them into Latex so I can directly copy and paste into Latex. Only return the latex code, nothing else.\"\n",
    "            },\n",
    "            {\n",
    "              \"type\": \"image_url\",\n",
    "              \"image_url\": {\n",
    "                \"url\": f\"data:image/png;base64,{base64_image}\"\n",
    "              }\n",
    "            }\n",
    "          ]\n",
    "        }\n",
    "      ],\n",
    "      \"max_tokens\": 1000\n",
    "    }\n",
    "\n",
    "    response = requests.post(\"https://api.openai.com/v1/chat/completions\", headers=headers, json=payload)\n",
    "\n",
    "    print(response.json())\n",
    "\n",
    "\n",
    "    # print((response.json()['choices'][0]['message']['content']))\n",
    "\n",
    "    #assign response to variable and clean\n",
    "\n",
    "    tex_code = response.json()['choices'][0]['message']['content'].replace('```latex', '').replace('```', '')\n",
    "    # print(tex_code)\n",
    "\n",
    "\n",
    "\n",
    "    #save tex file\n",
    "\n",
    "    f = open(\"extracted_text.tex\",\"w+\")\n",
    "    f.write(tex_code)\n",
    "    f.write(\"\\n\")\n",
    "    f.write(\"\\n\")\n",
    "    f.close()\n",
    "\n",
    "\n",
    "\n",
    "    #https://blog.aspose.com/pdf/convert-latex-to-pdf-in-python/#:~:text=to%20PDF%20Converter-,Python%20LaTeX%20to%20PDF%20Converter,to%20PDF%20in%20this%20article\n",
    "\n",
    "    # Convert Latex to PDF\n",
    "    # Create TeXLoadOptions class object\n",
    "    options = ap.TeXLoadOptions()\n",
    "\n",
    "    # Create a Document class object\n",
    "    document = ap.Document(\"extracted_text.tex\" , options)\n",
    "\n",
    "    # Convert Latex to PDF\n",
    "#     document.save(\"extracted_text.pdf\")\n",
    "    document.save(\"extracted_text.pdf\")\n",
    "    return 'extracted_text.pdf'\n"
   ]
  },
  {
   "cell_type": "code",
   "execution_count": 14,
   "id": "d79d4af2",
   "metadata": {},
   "outputs": [
    {
     "name": "stdout",
     "output_type": "stream",
     "text": [
      "{'id': 'chatcmpl-92m6HtJLeNN4EnFBsxQybiNRh8d6w', 'object': 'chat.completion', 'created': 1710448581, 'model': 'gpt-4-1106-vision-preview', 'usage': {'prompt_tokens': 1152, 'completion_tokens': 410, 'total_tokens': 1562}, 'choices': [{'message': {'role': 'assistant', 'content': '```latex\\n\\\\documentclass{article}\\n\\\\usepackage[utf8]{inputenc}\\n\\\\usepackage{amsmath}\\n\\n\\\\begin{document}\\n\\n\\\\section*{XII-PHYSICS}\\n\\n\\\\subsection*{Electrostatics}\\n\\\\subsubsection*{1. Unit 2, 3 and 5 marks Questions}\\n\\n\\\\begin{enumerate}\\n    \\\\item What do you mean by \"electrically neutral\" of an object?\\n    \\\\begin{itemize}\\n        \\\\item An object have zero net charge is said to be electrically neutral.\\n    \\\\end{itemize}\\n    \\n    \\\\item What is mean by triboelectric charging?\\n    \\\\begin{itemize}\\n        \\\\item Charging the objects through rubbing is called triboelectric charging.\\n    \\\\end{itemize}\\n    \\n    \\\\item Define \"conservation of charge\".\\n    \\\\begin{itemize}\\n        \\\\item The total electric charge in the universe is constant and charge can neither be created nor be destroyed.\\n        \\\\item In any physical process, the net change in charge will always be zero.\\\\\\\\\\n        Ex: $_{92}U^{238} \\\\rightarrow _{90}Th^{234} + _{2}He^{4}$\\n    \\\\end{itemize}\\n    \\n    \\\\item What is quantisation of charges?\\n    \\\\begin{itemize}\\n        \\\\item The charge $q$ on any object is equal to an integral multiple of the fundamental unit of charge $e$.\\n        \\\\[ q = ne \\\\]\\n        where $n$ is an integer $(n = 0, \\\\pm1, \\\\pm2, \\\\pm3, \\\\ldots)$\\n\\n        $e$ is the fundamental unit of charge $e = 1.6 \\\\times 10^{-19} C$\\n        \\n        Note: the charge quantisation is not appreciable at the macroscopic level.\\n    \\\\end{itemize}\\n\\\\end{enumerate}\\n\\n\\\\end{document}\\n```'}, 'finish_reason': 'stop', 'index': 0}]}\n"
     ]
    },
    {
     "data": {
      "text/plain": [
       "'extracted_text.pdf'"
      ]
     },
     "execution_count": 14,
     "metadata": {},
     "output_type": "execute_result"
    }
   ],
   "source": [
    "image = \"C:\\\\Users\\Maanas\\OneDrive - Imperial College London\\Blackboard\\Research Computing\\Project\\\\test2.png\"\n",
    "# \"C:\\Users\\Maanas\\OneDrive - Imperial College London\\Blackboard\\Research Computing\\Project\\test2.png\"\n",
    "GPT4V_function(image)\n"
   ]
  },
  {
   "cell_type": "code",
   "execution_count": 15,
   "id": "f8e790da",
   "metadata": {},
   "outputs": [
    {
     "name": "stderr",
     "output_type": "stream",
     "text": [
      "C:\\Users\\Maanas\\anaconda3\\lib\\site-packages\\gradio\\utils.py:857: UserWarning: Expected 0 arguments for function <function display_pdf at 0x000001AF4E6E29D0>, received 1.\n",
      "  warnings.warn(\n",
      "C:\\Users\\Maanas\\anaconda3\\lib\\site-packages\\gradio\\utils.py:865: UserWarning: Expected maximum 0 arguments for function <function display_pdf at 0x000001AF4E6E29D0>, received 1.\n",
      "  warnings.warn(\n"
     ]
    },
    {
     "name": "stdout",
     "output_type": "stream",
     "text": [
      "Running on local URL:  http://127.0.0.1:7864\n",
      "\n",
      "To create a public link, set `share=True` in `launch()`.\n"
     ]
    },
    {
     "data": {
      "text/html": [
       "<div><iframe src=\"http://127.0.0.1:7864/\" width=\"100%\" height=\"500\" allow=\"autoplay; camera; microphone; clipboard-read; clipboard-write;\" frameborder=\"0\" allowfullscreen></iframe></div>"
      ],
      "text/plain": [
       "<IPython.core.display.HTML object>"
      ]
     },
     "metadata": {},
     "output_type": "display_data"
    },
    {
     "data": {
      "text/plain": []
     },
     "execution_count": 15,
     "metadata": {},
     "output_type": "execute_result"
    }
   ],
   "source": [
    "def display_pdf():\n",
    "    return GPT4V_function()\n",
    "\n",
    "\n",
    "css = \"\"\"\n",
    "h1 {\n",
    "    text-align: center;\n",
    "    display:block;\n",
    "}\n",
    "\"\"\"\n",
    "\n",
    "with gr.Blocks(css=css) as demo:\n",
    "    gr.Markdown(\"\"\" # Digitialise It! \"\"\")\n",
    "\n",
    "    with gr.Row(\"Upload your File\"):\n",
    "        input=gr.Image()\n",
    "        output=gr.File()\n",
    "        upload_btn=gr.Button(\"Upload\")\n",
    "        upload_btn.click(fn=display_pdf,inputs=input, outputs=output)\n",
    "    with gr.Row(\"Ask a Question\"):\n",
    "        question = gr.Textbox(label=\"Question\") #textbox for question\n",
    "        answer = gr.Textbox(label=\"Answer\") #textbox for answer\n",
    "        enter_btn = gr.Button(\"Enter\") #enter button \n",
    "        enter_btn.click(fn=greet,inputs=question,outputs=answer) #displays answer to question when enter is clicked\n",
    "\n",
    "demo.launch() "
   ]
  }
 ],
 "metadata": {
  "kernelspec": {
   "display_name": "Python 3 (ipykernel)",
   "language": "python",
   "name": "python3"
  },
  "language_info": {
   "codemirror_mode": {
    "name": "ipython",
    "version": 3
   },
   "file_extension": ".py",
   "mimetype": "text/x-python",
   "name": "python",
   "nbconvert_exporter": "python",
   "pygments_lexer": "ipython3",
   "version": "3.9.12"
  },
  "varInspector": {
   "cols": {
    "lenName": 16,
    "lenType": 16,
    "lenVar": 40
   },
   "kernels_config": {
    "python": {
     "delete_cmd_postfix": "",
     "delete_cmd_prefix": "del ",
     "library": "var_list.py",
     "varRefreshCmd": "print(var_dic_list())"
    },
    "r": {
     "delete_cmd_postfix": ") ",
     "delete_cmd_prefix": "rm(",
     "library": "var_list.r",
     "varRefreshCmd": "cat(var_dic_list()) "
    }
   },
   "types_to_exclude": [
    "module",
    "function",
    "builtin_function_or_method",
    "instance",
    "_Feature"
   ],
   "window_display": false
  }
 },
 "nbformat": 4,
 "nbformat_minor": 5
}
